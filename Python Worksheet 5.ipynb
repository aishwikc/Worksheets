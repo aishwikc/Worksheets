{
 "cells": [
  {
   "cell_type": "markdown",
   "metadata": {},
   "source": [
    "### 12. Write a python program to square the elements of a list by using list comprehension. \n",
    "### 13. Write a python program to drop duplicate elements from a list a of numbers.\n",
    "### 14. Take two sets of numbers and try implementing the set operations - insertion, union, difference and symmetric_difference between them.\n",
    "### 15. Write a python program to add the elements of a set."
   ]
  },
  {
   "cell_type": "code",
   "execution_count": 8,
   "metadata": {},
   "outputs": [
    {
     "data": {
      "text/plain": [
       "[1, 4, 9, 16, 25, 36]"
      ]
     },
     "execution_count": 8,
     "metadata": {},
     "output_type": "execute_result"
    }
   ],
   "source": [
    "#12\n",
    "\n",
    "list1=[1,2,3,4,5,6] \n",
    "[i**2 for i in list1] "
   ]
  },
  {
   "cell_type": "code",
   "execution_count": 11,
   "metadata": {},
   "outputs": [
    {
     "name": "stdout",
     "output_type": "stream",
     "text": [
      "The list after removing duplicates : [1, 3, 5, 6]\n"
     ]
    }
   ],
   "source": [
    "#13\n",
    "\n",
    "list2 = [1, 3, 5, 6, 3, 5, 6, 1]\n",
    "res = [] \n",
    "[res.append(x) for x in list2 if x not in res]\n",
    "print (\"The list after removing duplicates : \" + str(res))"
   ]
  },
  {
   "cell_type": "code",
   "execution_count": 12,
   "metadata": {},
   "outputs": [
    {
     "name": "stdout",
     "output_type": "stream",
     "text": [
      "{1, 2, 5, 6, 7, 9}\n"
     ]
    }
   ],
   "source": [
    "#14\n",
    "  \n",
    "set_A = {1, 2, 3, 4, 5} \n",
    "set_B = {6, 7, 3, 9, 4} \n",
    "print(set_A.symmetric_difference(set_B)) "
   ]
  },
  {
   "cell_type": "code",
   "execution_count": 16,
   "metadata": {},
   "outputs": [
    {
     "name": "stdout",
     "output_type": "stream",
     "text": [
      "Letters are: {1, 2, 3, 's'}\n"
     ]
    }
   ],
   "source": [
    "list3 = {1,2,3} \n",
    "  \n",
    "# adding 's' \n",
    "list3.add('s') \n",
    "print('Letters are:', list3) "
   ]
  },
  {
   "cell_type": "code",
   "execution_count": null,
   "metadata": {},
   "outputs": [],
   "source": []
  }
 ],
 "metadata": {
  "kernelspec": {
   "display_name": "Python 3",
   "language": "python",
   "name": "python3"
  },
  "language_info": {
   "codemirror_mode": {
    "name": "ipython",
    "version": 3
   },
   "file_extension": ".py",
   "mimetype": "text/x-python",
   "name": "python",
   "nbconvert_exporter": "python",
   "pygments_lexer": "ipython3",
   "version": "3.8.3"
  }
 },
 "nbformat": 4,
 "nbformat_minor": 4
}
