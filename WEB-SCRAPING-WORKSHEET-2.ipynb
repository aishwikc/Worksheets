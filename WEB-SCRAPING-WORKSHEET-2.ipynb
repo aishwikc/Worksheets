{
 "cells": [
  {
   "cell_type": "markdown",
   "metadata": {},
   "source": [
    "# 14"
   ]
  },
  {
   "cell_type": "code",
   "execution_count": 19,
   "metadata": {},
   "outputs": [],
   "source": [
    "# Scraping Rayban Glasses\n",
    "\n",
    "# Importing Libraries\n",
    "import selenium\n",
    "import pandas as pd\n",
    "import time\n",
    "\n",
    "# Importing selenium webdriver  \n",
    "from selenium import webdriver\n",
    "from selenium.webdriver.chrome.options import Options\n",
    "# Importing required Exceptions which needs to handled\n",
    "from selenium.common.exceptions import StaleElementReferenceException, NoSuchElementException, ElementClickInterceptedException"
   ]
  },
  {
   "cell_type": "code",
   "execution_count": 46,
   "metadata": {},
   "outputs": [],
   "source": [
    "# Activating the chrome browserhttp://localhost:8888/notebooks/Downloads/Job%20Crawl.ipynb#\n",
    "driver = webdriver.Chrome('C:/Users/Aishwik/Downloads/chromedriver_win32 (2)/chromedriver.exe')"
   ]
  },
  {
   "cell_type": "code",
   "execution_count": 47,
   "metadata": {},
   "outputs": [],
   "source": [
    "# Opening the homepage of flipkart.com\n",
    "driver.get('https://www.flipkart.com')"
   ]
  },
  {
   "cell_type": "code",
   "execution_count": 48,
   "metadata": {},
   "outputs": [],
   "source": [
    "# searching for raban sunglasses\n",
    "search_field=driver.find_element_by_xpath(\"//div[@class='O8ZS_U']/input\")\n",
    "search_field.send_keys(\"rayban sunglasses\")\n",
    "search_button=driver.find_element_by_xpath(\"//div[@class='col-12-12 _2tVp4j']/button\")\n",
    "search_button.submit()"
   ]
  },
  {
   "cell_type": "code",
   "execution_count": 49,
   "metadata": {},
   "outputs": [],
   "source": [
    "#getting the images url\n",
    "urls=[i.get_attribute('src') for i in driver.find_elements_by_xpath(\"//img[@class='_3togXc']\")]"
   ]
  },
  {
   "cell_type": "code",
   "execution_count": 50,
   "metadata": {},
   "outputs": [
    {
     "data": {
      "text/plain": [
       "0"
      ]
     },
     "execution_count": 50,
     "metadata": {},
     "output_type": "execute_result"
    }
   ],
   "source": [
    "len(urls)"
   ]
  },
  {
   "cell_type": "code",
   "execution_count": 51,
   "metadata": {},
   "outputs": [],
   "source": [
    "#create directory to save_images\n",
    "import os\n",
    "import requests\n",
    "def create_dir(dirname):\n",
    "    os.mkdir(os.path.join(os.getcwd(),dirname))\n",
    "    return (os.path.join(os.getcwd(),dirname))"
   ]
  },
  {
   "cell_type": "code",
   "execution_count": 53,
   "metadata": {},
   "outputs": [],
   "source": [
    "image_dir=create_dir(\"C:/Users/Aishwik/Documents/Rayban\")"
   ]
  },
  {
   "cell_type": "code",
   "execution_count": 54,
   "metadata": {},
   "outputs": [],
   "source": [
    "# reading the images  from urls and then saving them in the rayban directory created above\n",
    "for index,url in enumerate(urls):\n",
    "    response=requests.get(url)\n",
    "    with open(r\"\"+image_dir+\"/image{}\".format(index)+\".jpeg\",\"wb\") as f:\n",
    "        f.write(response.content)"
   ]
  },
  {
   "cell_type": "markdown",
   "metadata": {},
   "source": [
    "# 15"
   ]
  },
  {
   "cell_type": "code",
   "execution_count": 41,
   "metadata": {},
   "outputs": [],
   "source": [
    "# Scraping Mouse data\n",
    "\n",
    "# Opening the homepage of Amazon.in\n",
    "driver.get('https://www.amazon.in/')"
   ]
  },
  {
   "cell_type": "code",
   "execution_count": 42,
   "metadata": {},
   "outputs": [],
   "source": [
    "# searching for mouses\n",
    "search_field=driver.find_element_by_xpath(\"//div[@class='nav-search-field ']/input\")\n",
    "search_field.send_keys(\"mouses\")\n",
    "search_button=driver.find_element_by_xpath(\"//div[@class='nav-search-submit nav-sprite']/span/input\")\n",
    "search_button.submit()"
   ]
  },
  {
   "cell_type": "code",
   "execution_count": 43,
   "metadata": {},
   "outputs": [],
   "source": [
    "#setting the price filter for price<500\n",
    "min_field=driver.find_element_by_xpath(\"//li[@id='p_36/price-range']/span[1]/form[1]/input[5]\")\n",
    "min_field.send_keys(\"0\")  \n",
    "max_field=driver.find_element_by_xpath(\"//li[@id='p_36/price-range']/span[1]/form[1]/input[6]\")    \n",
    "max_field.send_keys(\"500\")\n",
    "search_filter=driver.find_element_by_xpath(\"//li[@id='p_36/price-range']/span[1]/form[1]/span[3]/span[1]/input\")                                    \n",
    "search_filter.submit()                                       "
   ]
  },
  {
   "cell_type": "code",
   "execution_count": 44,
   "metadata": {},
   "outputs": [],
   "source": [
    "# getting the required info of the mouses\n",
    "price=[]\n",
    "model_name=[]\n",
    "for page in range(0,10):\n",
    "        if len(price)>20:\n",
    "            break\n",
    "        for i in driver.find_elements_by_xpath(\"//div[@class='a-row']/a/span[1]/span[2]/span[2]\"):\n",
    "            price.append(i.text)\n",
    "        for i in driver.find_elements_by_xpath(\"//h2[@class='a-size-mini a-spacing-none a-color-base s-line-clamp-2']/a/span\"):\n",
    "            model_name.append(i.text)\n",
    "        #getting the next page button and clicking\n",
    "        next_page=driver.find_element_by_xpath(\"//li[@class='a-last']/a\").get_attribute(\"href\")\n",
    "        driver.get(next_page)\n",
    "        \n",
    "   "
   ]
  },
  {
   "cell_type": "code",
   "execution_count": 45,
   "metadata": {
    "scrolled": true
   },
   "outputs": [
    {
     "data": {
      "text/html": [
       "<div>\n",
       "<style scoped>\n",
       "    .dataframe tbody tr th:only-of-type {\n",
       "        vertical-align: middle;\n",
       "    }\n",
       "\n",
       "    .dataframe tbody tr th {\n",
       "        vertical-align: top;\n",
       "    }\n",
       "\n",
       "    .dataframe thead th {\n",
       "        text-align: right;\n",
       "    }\n",
       "</style>\n",
       "<table border=\"1\" class=\"dataframe\">\n",
       "  <thead>\n",
       "    <tr style=\"text-align: right;\">\n",
       "      <th></th>\n",
       "      <th>model_name</th>\n",
       "      <th>price</th>\n",
       "    </tr>\n",
       "  </thead>\n",
       "  <tbody>\n",
       "    <tr>\n",
       "      <th>0</th>\n",
       "      <td>RiaTech 2 Pack Mouse Pad, Water Resistance Coa...</td>\n",
       "      <td>329</td>\n",
       "    </tr>\n",
       "    <tr>\n",
       "      <th>1</th>\n",
       "      <td>NOCKOUT Big Size Designer Gaming Non-Slip Rubb...</td>\n",
       "      <td>229</td>\n",
       "    </tr>\n",
       "    <tr>\n",
       "      <th>2</th>\n",
       "      <td>HP X1000 Wired Mouse (Black/Grey)</td>\n",
       "      <td>349</td>\n",
       "    </tr>\n",
       "    <tr>\n",
       "      <th>3</th>\n",
       "      <td>Lenovo 300 Wired USB Mouse, GX30M39704</td>\n",
       "      <td>299</td>\n",
       "    </tr>\n",
       "    <tr>\n",
       "      <th>4</th>\n",
       "      <td>Logitech M90 Wired USB Mouse, 1000 DPI Optical...</td>\n",
       "      <td>299</td>\n",
       "    </tr>\n",
       "    <tr>\n",
       "      <th>5</th>\n",
       "      <td>Portronics Toad 12 Wireless 2.4G Optical Mouse...</td>\n",
       "      <td>450</td>\n",
       "    </tr>\n",
       "    <tr>\n",
       "      <th>6</th>\n",
       "      <td>Dell Ms116 275-BBCB Optical Mouse</td>\n",
       "      <td>349</td>\n",
       "    </tr>\n",
       "    <tr>\n",
       "      <th>7</th>\n",
       "      <td>Ant Esports GM200W Gaming Mouse Wired, 6 Progr...</td>\n",
       "      <td>449</td>\n",
       "    </tr>\n",
       "    <tr>\n",
       "      <th>8</th>\n",
       "      <td>Zinq Technologies ZQ233 Wired Mouse with 1000D...</td>\n",
       "      <td>179</td>\n",
       "    </tr>\n",
       "    <tr>\n",
       "      <th>9</th>\n",
       "      <td>Xmate Rio Wired USB Gaming Mouse, Led Backlit,...</td>\n",
       "      <td>399</td>\n",
       "    </tr>\n",
       "    <tr>\n",
       "      <th>10</th>\n",
       "      <td>Portronics Toad 12 Wireless 2.4G Optical Mouse...</td>\n",
       "      <td>450</td>\n",
       "    </tr>\n",
       "    <tr>\n",
       "      <th>11</th>\n",
       "      <td>Zinq Technologies ZQ233 Wired Mouse with 1000D...</td>\n",
       "      <td>179</td>\n",
       "    </tr>\n",
       "    <tr>\n",
       "      <th>12</th>\n",
       "      <td>iBall FreeGo G20 High Speed Wireless Optical M...</td>\n",
       "      <td>432</td>\n",
       "    </tr>\n",
       "    <tr>\n",
       "      <th>13</th>\n",
       "      <td>Dell MS116 1000DPI USB Wired Optical Mouse</td>\n",
       "      <td>397</td>\n",
       "    </tr>\n",
       "    <tr>\n",
       "      <th>14</th>\n",
       "      <td>HP USB X500 Wired Optical Sensor Mouse 3 Butto...</td>\n",
       "      <td>384</td>\n",
       "    </tr>\n",
       "    <tr>\n",
       "      <th>15</th>\n",
       "      <td>iBall Freego G100 Premium Wireless Optical Mou...</td>\n",
       "      <td>525</td>\n",
       "    </tr>\n",
       "    <tr>\n",
       "      <th>16</th>\n",
       "      <td>iBall Style 63 Optical Mouse (Black)</td>\n",
       "      <td>281</td>\n",
       "    </tr>\n",
       "    <tr>\n",
       "      <th>17</th>\n",
       "      <td>Zebronics Zeb-Comfort+ Wired Mouse</td>\n",
       "      <td>225</td>\n",
       "    </tr>\n",
       "    <tr>\n",
       "      <th>18</th>\n",
       "      <td>Golden Feather Anti Skid Marvel Avengers Super...</td>\n",
       "      <td>189</td>\n",
       "    </tr>\n",
       "    <tr>\n",
       "      <th>19</th>\n",
       "      <td>IT2M Designer Mouse Pad for Laptop/Computer (9...</td>\n",
       "      <td>196</td>\n",
       "    </tr>\n",
       "  </tbody>\n",
       "</table>\n",
       "</div>"
      ],
      "text/plain": [
       "                                           model_name price\n",
       "0   RiaTech 2 Pack Mouse Pad, Water Resistance Coa...   329\n",
       "1   NOCKOUT Big Size Designer Gaming Non-Slip Rubb...   229\n",
       "2                   HP X1000 Wired Mouse (Black/Grey)   349\n",
       "3              Lenovo 300 Wired USB Mouse, GX30M39704   299\n",
       "4   Logitech M90 Wired USB Mouse, 1000 DPI Optical...   299\n",
       "5   Portronics Toad 12 Wireless 2.4G Optical Mouse...   450\n",
       "6                   Dell Ms116 275-BBCB Optical Mouse   349\n",
       "7   Ant Esports GM200W Gaming Mouse Wired, 6 Progr...   449\n",
       "8   Zinq Technologies ZQ233 Wired Mouse with 1000D...   179\n",
       "9   Xmate Rio Wired USB Gaming Mouse, Led Backlit,...   399\n",
       "10  Portronics Toad 12 Wireless 2.4G Optical Mouse...   450\n",
       "11  Zinq Technologies ZQ233 Wired Mouse with 1000D...   179\n",
       "12  iBall FreeGo G20 High Speed Wireless Optical M...   432\n",
       "13         Dell MS116 1000DPI USB Wired Optical Mouse   397\n",
       "14  HP USB X500 Wired Optical Sensor Mouse 3 Butto...   384\n",
       "15  iBall Freego G100 Premium Wireless Optical Mou...   525\n",
       "16               iBall Style 63 Optical Mouse (Black)   281\n",
       "17                 Zebronics Zeb-Comfort+ Wired Mouse   225\n",
       "18  Golden Feather Anti Skid Marvel Avengers Super...   189\n",
       "19  IT2M Designer Mouse Pad for Laptop/Computer (9...   196"
      ]
     },
     "execution_count": 45,
     "metadata": {},
     "output_type": "execute_result"
    }
   ],
   "source": [
    "# creating a dataframe from the scraped data of only 20 mouses\n",
    "df=pd.DataFrame()\n",
    "df['model_name']=model_name[0:20]\n",
    "df['price']=price[0:20]\n",
    "df"
   ]
  }
 ],
 "metadata": {
  "kernelspec": {
   "display_name": "Python 3",
   "language": "python",
   "name": "python3"
  },
  "language_info": {
   "codemirror_mode": {
    "name": "ipython",
    "version": 3
   },
   "file_extension": ".py",
   "mimetype": "text/x-python",
   "name": "python",
   "nbconvert_exporter": "python",
   "pygments_lexer": "ipython3",
   "version": "3.8.3"
  }
 },
 "nbformat": 4,
 "nbformat_minor": 4
}
