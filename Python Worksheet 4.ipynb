{
 "cells": [
  {
   "cell_type": "markdown",
   "metadata": {},
   "source": [
    "### Write a python program to represent a user entered number in expanded form"
   ]
  },
  {
   "cell_type": "code",
   "execution_count": 7,
   "metadata": {},
   "outputs": [
    {
     "name": "stdout",
     "output_type": "stream",
     "text": [
      "456\n",
      "400+50+6\n"
     ]
    }
   ],
   "source": [
    "i=input().split(\".\")\n",
    "I=i[0]\n",
    "e=enumerate\n",
    "o=[(k+len(I[j+1::])*\"0\") for j,k in e(I) if k!=\"0\"] \n",
    "try:o+=[\".\"+l*\"0\"+m for l,m in e(i[1]) if m!=\"0\"]\n",
    "except:0\n",
    "print (\"+\".join(o or\"0\"))"
   ]
  },
  {
   "cell_type": "markdown",
   "metadata": {},
   "source": [
    "### Write a python program to determine whether the number entered by the user is an Armstrong number or not?"
   ]
  },
  {
   "cell_type": "code",
   "execution_count": 3,
   "metadata": {},
   "outputs": [
    {
     "name": "stdout",
     "output_type": "stream",
     "text": [
      "Enter a number: 153\n",
      "153 is an Armstrong number\n"
     ]
    }
   ],
   "source": [
    "num = int(input(\"Enter a number: \"))  \n",
    "sum = 0  \n",
    "temp = num  \n",
    "  \n",
    "while temp > 0:  \n",
    "    digit = temp % 10  \n",
    "    sum += digit ** 3  \n",
    "    temp //= 10  \n",
    "  \n",
    "if num == sum:  \n",
    "    print(num,\"is an Armstrong number\")  \n",
    "else:  \n",
    "    print(num,\"is not an Armstrong number\")  "
   ]
  },
  {
   "cell_type": "code",
   "execution_count": null,
   "metadata": {},
   "outputs": [],
   "source": []
  }
 ],
 "metadata": {
  "kernelspec": {
   "display_name": "Python 3",
   "language": "python",
   "name": "python3"
  },
  "language_info": {
   "codemirror_mode": {
    "name": "ipython",
    "version": 3
   },
   "file_extension": ".py",
   "mimetype": "text/x-python",
   "name": "python",
   "nbconvert_exporter": "python",
   "pygments_lexer": "ipython3",
   "version": "3.8.3"
  }
 },
 "nbformat": 4,
 "nbformat_minor": 4
}
