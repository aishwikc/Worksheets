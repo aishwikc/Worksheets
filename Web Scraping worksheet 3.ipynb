{
 "cells": [
  {
   "cell_type": "markdown",
   "metadata": {},
   "source": [
    "### 1. Write a python program to display all the header tags from ‘en.wikipedia.org/wiki/Main_Page’. "
   ]
  },
  {
   "cell_type": "code",
   "execution_count": 1,
   "metadata": {},
   "outputs": [
    {
     "name": "stdout",
     "output_type": "stream",
     "text": [
      "List all the header tags :\n",
      "\n",
      "<h1 class=\"firstHeading\" id=\"firstHeading\" lang=\"en\">Main Page</h1>\n",
      "\n",
      "<h2 class=\"mp-h2\" id=\"mp-tfa-h2\"><span id=\"From_today.27s_featured_article\"></span><span class=\"mw-headline\" id=\"From_today's_featured_article\">From today's featured article</span></h2>\n",
      "\n",
      "<h2 class=\"mp-h2\" id=\"mp-dyk-h2\"><span class=\"mw-headline\" id=\"Did_you_know_...\">Did you know ...</span></h2>\n",
      "\n",
      "<h2 class=\"mp-h2\" id=\"mp-itn-h2\"><span class=\"mw-headline\" id=\"In_the_news\">In the news</span></h2>\n",
      "\n",
      "<h2 class=\"mp-h2\" id=\"mp-otd-h2\"><span class=\"mw-headline\" id=\"On_this_day\">On this day</span></h2>\n",
      "\n",
      "<h2 class=\"mp-h2\" id=\"mp-tfp-h2\"><span id=\"Today.27s_featured_picture\"></span><span class=\"mw-headline\" id=\"Today's_featured_picture\">Today's featured picture</span></h2>\n",
      "\n",
      "<h2 class=\"mp-h2\" id=\"mp-other\"><span class=\"mw-headline\" id=\"Other_areas_of_Wikipedia\">Other areas of Wikipedia</span></h2>\n",
      "\n",
      "<h2 class=\"mp-h2\" id=\"mp-sister\"><span id=\"Wikipedia.27s_sister_projects\"></span><span class=\"mw-headline\" id=\"Wikipedia's_sister_projects\">Wikipedia's sister projects</span></h2>\n",
      "\n",
      "<h2 class=\"mp-h2\" id=\"mp-lang\"><span class=\"mw-headline\" id=\"Wikipedia_languages\">Wikipedia languages</span></h2>\n",
      "\n",
      "<h2>Navigation menu</h2>\n",
      "\n",
      "<h3 id=\"p-personal-label\">\n",
      "<span>Personal tools</span>\n",
      "</h3>\n",
      "\n",
      "<h3 id=\"p-namespaces-label\">\n",
      "<span>Namespaces</span>\n",
      "</h3>\n",
      "\n",
      "<h3 id=\"p-variants-label\">\n",
      "<span>Variants</span>\n",
      "</h3>\n",
      "\n",
      "<h3 id=\"p-views-label\">\n",
      "<span>Views</span>\n",
      "</h3>\n",
      "\n",
      "<h3 id=\"p-cactions-label\">\n",
      "<span>More</span>\n",
      "</h3>\n",
      "\n",
      "<h3>\n",
      "<label for=\"searchInput\">Search</label>\n",
      "</h3>\n",
      "\n",
      "<h3 id=\"p-navigation-label\">\n",
      "<span>Navigation</span>\n",
      "</h3>\n",
      "\n",
      "<h3 id=\"p-interaction-label\">\n",
      "<span>Contribute</span>\n",
      "</h3>\n",
      "\n",
      "<h3 id=\"p-tb-label\">\n",
      "<span>Tools</span>\n",
      "</h3>\n",
      "\n",
      "<h3 id=\"p-coll-print_export-label\">\n",
      "<span>Print/export</span>\n",
      "</h3>\n",
      "\n",
      "<h3 id=\"p-wikibase-otherprojects-label\">\n",
      "<span>In other projects</span>\n",
      "</h3>\n",
      "\n",
      "<h3 id=\"p-lang-label\">\n",
      "<span>Languages</span>\n",
      "</h3>\n"
     ]
    }
   ],
   "source": [
    "from urllib.request import urlopen\n",
    "from bs4 import BeautifulSoup\n",
    "html = urlopen('https://en.wikipedia.org/wiki/Main_Page')\n",
    "bs = BeautifulSoup(html, \"html.parser\")\n",
    "titles = bs.find_all(['h1', 'h2','h3','h4','h5','h6'])\n",
    "print('List all the header tags :', *titles, sep='\\n\\n')"
   ]
  },
  {
   "cell_type": "markdown",
   "metadata": {},
   "source": [
    "### 2.\tWrite a python program to display IMDB’s Top rated 100 movies’ data(i.e. Name, IMDB rating, duration, director, star cast - 10 main characters) "
   ]
  },
  {
   "cell_type": "code",
   "execution_count": 82,
   "metadata": {},
   "outputs": [
    {
     "name": "stdout",
     "output_type": "stream",
     "text": [
      "1 - The Shawshank Redemption , 9.22279289095073 , Starring: Frank Darabont (dir.), Tim Robbins, Morgan Freeman\n",
      "2 - The Godfather , 9.14868491755109 , Starring: Francis Ford Coppola (dir.), Marlon Brando, Al Pacino\n",
      "3 - The Godfather: Part II , 8.980951158537051 , Starring: Francis Ford Coppola (dir.), Al Pacino, Robert De Niro\n",
      "4 - The Dark Knight , 8.973513264437683 , Starring: Christopher Nolan (dir.), Christian Bale, Heath Ledger\n",
      "5 - 12 Angry Men , 8.930835413790078 , Starring: Sidney Lumet (dir.), Henry Fonda, Lee J. Cobb\n",
      "6 - Schindler's List , 8.907593794401262 , Starring: Steven Spielberg (dir.), Liam Neeson, Ralph Fiennes\n",
      "7 - The Lord of the Rings: The Return of the King , 8.883732326464898 , Starring: Peter Jackson (dir.), Elijah Wood, Viggo Mortensen\n",
      "8 - Pulp Fiction , 8.845030037389224 , Starring: Quentin Tarantino (dir.), John Travolta, Uma Thurman\n",
      "9 - Il buono, il brutto, il cattivo , 8.796070475855926 , Starring: Sergio Leone (dir.), Clint Eastwood, Eli Wallach\n",
      "1 -  The Lord of the Rings: The Fellowship of the Ring , 8.775337370934432 , Starring: Peter Jackson (dir.), Elijah Wood, Ian McKellen\n",
      "11 - Fight Club , 8.76627387951593 , Starring: David Fincher (dir.), Brad Pitt, Edward Norton\n",
      "12 - Forrest Gump , 8.753167821919412 , Starring: Robert Zemeckis (dir.), Tom Hanks, Robin Wright\n",
      "13 - Inception , 8.721057574813733 , Starring: Christopher Nolan (dir.), Leonardo DiCaprio, Joseph Gordon-Levitt\n",
      "14 - The Lord of the Rings: The Two Towers , 8.698753273005227 , Starring: Peter Jackson (dir.), Elijah Wood, Ian McKellen\n",
      "15 - Star Wars: Episode V - The Empire Strikes Back , 8.698194087467172 , Starring: Irvin Kershner (dir.), Mark Hamill, Harrison Ford\n",
      "16 - The Matrix , 8.648633380582146 , Starring: Lana Wachowski (dir.), Keanu Reeves, Laurence Fishburne\n",
      "17 - Goodfellas , 8.643277922380895 , Starring: Martin Scorsese (dir.), Robert De Niro, Ray Liotta\n",
      "18 - One Flew Over the Cuckoo's Nest , 8.63862613952048 , Starring: Milos Forman (dir.), Jack Nicholson, Louise Fletcher\n",
      "19 - Shichinin no samurai , 8.60401439476663 , Starring: Akira Kurosawa (dir.), Toshirô Mifune, Takashi Shimura\n",
      "20 - Se7en , 8.591995591283624 , Starring: David Fincher (dir.), Morgan Freeman, Brad Pitt\n",
      "21 - La vita è bella , 8.582816013190348 , Starring: Roberto Benigni (dir.), Roberto Benigni, Nicoletta Braschi\n",
      "22 - Cidade de Deus , 8.580003595591187 , Starring: Fernando Meirelles (dir.), Alexandre Rodrigues, Leandro Firmino\n",
      "23 - The Silence of the Lambs , 8.575477757055507 , Starring: Jonathan Demme (dir.), Jodie Foster, Anthony Hopkins\n",
      "24 - It's a Wonderful Life , 8.571217449894998 , Starring: Frank Capra (dir.), James Stewart, Donna Reed\n",
      "25 - Star Wars , 8.555691041500701 , Starring: George Lucas (dir.), Mark Hamill, Harrison Ford\n",
      "26 - Saving Private Ryan , 8.549411284036752 , Starring: Steven Spielberg (dir.), Tom Hanks, Matt Damon\n",
      "27 - Sen to Chihiro no kamikakushi , 8.54059050185073 , Starring: Hayao Miyazaki (dir.), Daveigh Chase, Suzanne Pleshette\n",
      "28 - The Green Mile , 8.538127262375898 , Starring: Frank Darabont (dir.), Tom Hanks, Michael Clarke Duncan\n",
      "29 - Gisaengchung , 8.532825259070378 , Starring: Bong Joon Ho (dir.), Kang-ho Song, Sun-kyun Lee\n",
      "30 - Interstellar , 8.5320284807165 , Starring: Christopher Nolan (dir.), Matthew McConaughey, Anne Hathaway\n",
      "31 - Léon , 8.510623460667201 , Starring: Luc Besson (dir.), Jean Reno, Gary Oldman\n",
      "32 - The Usual Suspects , 8.498753259429705 , Starring: Bryan Singer (dir.), Kevin Spacey, Gabriel Byrne\n",
      "33 - Seppuku , 8.497188666170969 , Starring: Masaki Kobayashi (dir.), Tatsuya Nakadai, Akira Ishihama\n",
      "34 - The Lion King , 8.491862238658234 , Starring: Roger Allers (dir.), Matthew Broderick, Jeremy Irons\n",
      "35 - Back to the Future , 8.486932185872622 , Starring: Robert Zemeckis (dir.), Michael J. Fox, Christopher Lloyd\n",
      "36 - The Pianist , 8.486681560331641 , Starring: Roman Polanski (dir.), Adrien Brody, Thomas Kretschmann\n",
      "37 - Terminator 2: Judgment Day , 8.486036223724652 , Starring: James Cameron (dir.), Arnold Schwarzenegger, Linda Hamilton\n",
      "38 - American History X , 8.483515843669164 , Starring: Tony Kaye (dir.), Edward Norton, Edward Furlong\n",
      "39 - Modern Times , 8.482879722794976 , Starring: Charles Chaplin (dir.), Charles Chaplin, Paulette Goddard\n",
      "40 - Psycho , 8.477338858405325 , Starring: Alfred Hitchcock (dir.), Anthony Perkins, Janet Leigh\n",
      "41 - Gladiator , 8.47644145197233 , Starring: Ridley Scott (dir.), Russell Crowe, Joaquin Phoenix\n",
      "42 - City Lights , 8.47261689070675 , Starring: Charles Chaplin (dir.), Charles Chaplin, Virginia Cherrill\n",
      "43 - The Departed , 8.471748566106376 , Starring: Martin Scorsese (dir.), Leonardo DiCaprio, Matt Damon\n",
      "44 - Hamilton , 8.469783190664366 , Starring: Thomas Kail (dir.), Lin-Manuel Miranda, Phillipa Soo\n",
      "45 - The Intouchables , 8.468870344001855 , Starring: Olivier Nakache (dir.), François Cluzet, Omar Sy\n",
      "46 - Whiplash , 8.468246514552211 , Starring: Damien Chazelle (dir.), Miles Teller, J.K. Simmons\n",
      "47 - The Prestige , 8.45983109674398 , Starring: Christopher Nolan (dir.), Christian Bale, Hugh Jackman\n",
      "48 - Hotaru no haka , 8.456602771894218 , Starring: Isao Takahata (dir.), Tsutomu Tatsumi, Ayano Shiraishi\n",
      "49 - Once Upon a Time in the West , 8.448824485029284 , Starring: Sergio Leone (dir.), Henry Fonda, Charles Bronson\n",
      "50 - Casablanca , 8.438101085741941 , Starring: Michael Curtiz (dir.), Humphrey Bogart, Ingrid Bergman\n",
      "51 - Nuovo Cinema Paradiso , 8.431040512978184 , Starring: Giuseppe Tornatore (dir.), Philippe Noiret, Enzo Cannavale\n",
      "52 - Rear Window , 8.427470736292396 , Starring: Alfred Hitchcock (dir.), James Stewart, Grace Kelly\n",
      "53 - Alien , 8.421629459556977 , Starring: Ridley Scott (dir.), Sigourney Weaver, Tom Skerritt\n",
      "54 - Apocalypse Now , 8.419338286507868 , Starring: Francis Ford Coppola (dir.), Martin Sheen, Marlon Brando\n",
      "55 - Memento , 8.414457059819265 , Starring: Christopher Nolan (dir.), Guy Pearce, Carrie-Anne Moss\n",
      "56 - Raiders of the Lost Ark , 8.410196276475043 , Starring: Steven Spielberg (dir.), Harrison Ford, Karen Allen\n",
      "57 - The Great Dictator , 8.409890354440963 , Starring: Charles Chaplin (dir.), Charles Chaplin, Paulette Goddard\n",
      "58 - Django Unchained , 8.39138798630942 , Starring: Quentin Tarantino (dir.), Jamie Foxx, Christoph Waltz\n",
      "59 - The Lives of Others , 8.390106015795327 , Starring: Florian Henckel von Donnersmarck (dir.), Ulrich Mühe, Martina Gedeck\n",
      "60 - Joker , 8.389074368951366 , Starring: Todd Phillips (dir.), Joaquin Phoenix, Robert De Niro\n",
      "61 - Paths of Glory , 8.375850541028754 , Starring: Stanley Kubrick (dir.), Kirk Douglas, Ralph Meeker\n",
      "62 - WALL·E , 8.368784965191539 , Starring: Andrew Stanton (dir.), Ben Burtt, Elissa Knight\n",
      "63 - The Shining , 8.36818164262118 , Starring: Stanley Kubrick (dir.), Jack Nicholson, Shelley Duvall\n",
      "64 - Avengers: Infinity War , 8.365247640424576 , Starring: Anthony Russo (dir.), Robert Downey Jr., Chris Hemsworth\n",
      "65 - Sunset Blvd , 8.360322998496587 , Starring: Billy Wilder (dir.), William Holden, Gloria Swanson\n",
      "66 - Witness for the Prosecution , 8.353135359036537 , Starring: Billy Wilder (dir.), Tyrone Power, Marlene Dietrich\n",
      "67 - Spider-Man: Into the Spider-Verse , 8.35138331829958 , Starring: Bob Persichetti (dir.), Shameik Moore, Jake Johnson\n",
      "68 - Oldeuboi , 8.351218880301163 , Starring: Chan-wook Park (dir.), Min-sik Choi, Ji-Tae Yoo\n",
      "69 - Mononoke-hime , 8.351110754010428 , Starring: Hayao Miyazaki (dir.), Yôji Matsuda, Yuriko Ishida\n",
      "70 - Dr Strangelove or: How I Learned to Stop Worrying and Love the Bomb , 8.350068750238039 , Starring: Stanley Kubrick (dir.), Peter Sellers, George C. Scott\n",
      "71 - The Dark Knight Rises , 8.332947803627617 , Starring: Christopher Nolan (dir.), Christian Bale, Tom Hardy\n",
      "72 - Once Upon a Time in America , 8.331534524726054 , Starring: Sergio Leone (dir.), Robert De Niro, James Woods\n",
      "73 - Aliens , 8.323717890632587 , Starring: James Cameron (dir.), Sigourney Weaver, Michael Biehn\n",
      "74 - Kimi no na wa , 8.320267721751984 , Starring: Makoto Shinkai (dir.), Ryûnosuke Kamiki, Mone Kamishiraishi\n",
      "75 - Avengers: Endgame , 8.319693374885615 , Starring: Anthony Russo (dir.), Robert Downey Jr., Chris Evans\n",
      "76 - Coco , 8.31450602617418 , Starring: Lee Unkrich (dir.), Anthony Gonzalez, Gael García Bernal\n",
      "77 - American Beauty , 8.306999150702227 , Starring: Sam Mendes (dir.), Kevin Spacey, Annette Bening\n",
      "78 - Braveheart , 8.302605145266188 , Starring: Mel Gibson (dir.), Mel Gibson, Sophie Marceau\n",
      "79 - 3 Idiots , 8.299801153067177 , Starring: Rajkumar Hirani (dir.), Aamir Khan, Madhavan\n",
      "80 - Das Boot , 8.299127253995485 , Starring: Wolfgang Petersen (dir.), Jürgen Prochnow, Herbert Grönemeyer\n",
      "81 - Toy Story , 8.29660144863891 , Starring: John Lasseter (dir.), Tom Hanks, Tim Allen\n",
      "82 - Tengoku to jigoku , 8.292429364646026 , Starring: Akira Kurosawa (dir.), Toshirô Mifune, Yutaka Sada\n",
      "83 - Amadeus , 8.290208262500721 , Starring: Milos Forman (dir.), F. Murray Abraham, Tom Hulce\n",
      "84 - Capharnaüm , 8.287400391899926 , Starring: Nadine Labaki (dir.), Zain Al Rafeea, Yordanos Shiferaw\n",
      "85 - Taare Zameen Par , 8.286100536849235 , Starring: Aamir Khan (dir.), Darsheel Safary, Aamir Khan\n",
      "86 - Star Wars: Episode VI - Return of the Jedi , 8.285289772173826 , Starring: Richard Marquand (dir.), Mark Hamill, Harrison Ford\n",
      "87 - Inglourious Basterds , 8.285175773886282 , Starring: Quentin Tarantino (dir.), Brad Pitt, Diane Kruger\n",
      "88 - Reservoir Dogs , 8.28114831507353 , Starring: Quentin Tarantino (dir.), Harvey Keitel, Tim Roth\n",
      "89 - Good Will Hunting , 8.280731620656033 , Starring: Gus Van Sant (dir.), Robin Williams, Matt Damon\n",
      "90 - 2001: A Space Odyssey , 8.271080309728712 , Starring: Stanley Kubrick (dir.), Keir Dullea, Gary Lockwood\n",
      "91 - Requiem for a Dream , 8.267064122087854 , Starring: Darren Aronofsky (dir.), Ellen Burstyn, Jared Leto\n",
      "92 - Vertigo , 8.264517720515915 , Starring: Alfred Hitchcock (dir.), James Stewart, Kim Novak\n",
      "93 - M - Eine Stadt sucht einen Mörder , 8.263402700273557 , Starring: Fritz Lang (dir.), Peter Lorre, Ellen Widmann\n",
      "94 - Dangal , 8.259512622012162 , Starring: Nitesh Tiwari (dir.), Aamir Khan, Sakshi Tanwar\n",
      "95 - Eternal Sunshine of the Spotless Mind , 8.259480582527877 , Starring: Michel Gondry (dir.), Jim Carrey, Kate Winslet\n",
      "96 - Jagten , 8.25802313768129 , Starring: Thomas Vinterberg (dir.), Mads Mikkelsen, Thomas Bo Larsen\n",
      "97 - Citizen Kane , 8.254945915338899 , Starring: Orson Welles (dir.), Orson Welles, Joseph Cotten\n",
      "98 - 1917 , 8.253334685134368 , Starring: Sam Mendes (dir.), Dean-Charles Chapman, George MacKay\n",
      "99 - Full Metal Jacket , 8.248710454283012 , Starring: Stanley Kubrick (dir.), Matthew Modine, R. Lee Ermey\n",
      "10 -  Ladri di biciclette , 8.247512573419131 , Starring: Vittorio De Sica (dir.), Lamberto Maggiorani, Enzo Staiola\n"
     ]
    }
   ],
   "source": [
    "import requests\n",
    "import re\n",
    "\n",
    "# Download IMDB's Top 250 data\n",
    "url = 'http://www.imdb.com/chart/top'\n",
    "response = requests.get(url)\n",
    "soup = BeautifulSoup(response.text, 'lxml')\n",
    "\n",
    "movies = soup.select('td.titleColumn')\n",
    "links = [a.attrs.get('href') for a in soup.select('td.titleColumn a')]\n",
    "crew = [a.attrs.get('title') for a in soup.select('td.titleColumn a')]\n",
    "ratings = [b.attrs.get('data-value') for b in soup.select('td.posterColumn span[name=ir]')]\n",
    "votes = [b.attrs.get('data-value') for b in soup.select('td.ratingColumn strong')]\n",
    "\n",
    "imdb = []\n",
    "\n",
    "# Store each item into dictionary (data), then put those into a list (imdb)\n",
    "for index in range(0, len(movies)):\n",
    "    # Seperate movie into: 'place', 'title', 'year'\n",
    "    movie_string = movies[index].get_text()\n",
    "    movie = (' '.join(movie_string.split()).replace('.', ''))\n",
    "    movie_title = movie[len(str(index))+1:-7]\n",
    "    year = re.search('\\((.*?)\\)', movie_string).group(1)\n",
    "    place = movie[:len(str(index))-(len(movie))]\n",
    "    data = {\"movie_title\": movie_title,\n",
    "            \"place\": place,\n",
    "            \"star_cast\": crew[index],\n",
    "            \"rating\": ratings[index],}\n",
    "    imdb.append(data)\n",
    "\n",
    "for item in imdb[:100]:\n",
    "    print(item['place'], '-', item['movie_title'], ',', item['rating'], ',', 'Starring:', item['star_cast'])"
   ]
  },
  {
   "cell_type": "markdown",
   "metadata": {},
   "source": [
    "### 3.\tWrite a python program to find geospatial coordinates (i.e. latitudes and longitudes) of a city name entered by user from ‘www.google.co.in/maps’. "
   ]
  },
  {
   "cell_type": "code",
   "execution_count": 80,
   "metadata": {},
   "outputs": [
    {
     "name": "stdout",
     "output_type": "stream",
     "text": [
      "Enter a city: Bengaluru\n",
      "Bengaluru, Bangalore North, Bangalore Urban, Karnataka, India\n",
      "lat 12.9791198\n",
      "lon 77.5912997\n"
     ]
    }
   ],
   "source": [
    "city=input(\"Enter a city: \")\n",
    "from geopy.geocoders import Nominatim\n",
    "geolocator = Nominatim(user_agent='myapplication')\n",
    "location = geolocator.geocode(city)\n",
    "print(location.address)\n",
    "for key,value in location.raw.items():\n",
    "    if key == 'lat' or key == 'lon':\n",
    "         print(key, value)"
   ]
  },
  {
   "cell_type": "code",
   "execution_count": 78,
   "metadata": {},
   "outputs": [],
   "source": [
    "geo_url = 'https://www.google.co.in/maps/'\n",
    "my_address = {'address': 'Bangalore', \n",
    "             'language': 'en'}\n",
    "r = requests.get(geo_url, params = my_address)\n",
    "soup = BeautifulSoup(r.text, 'lxml')\n",
    "\n",
    "latlonglist = soup.find_all(attrs={\"data-lat\": True, \"data-lng\": True})\n",
    "for latlong in latlonglist:\n",
    "    print(latlong['data-lat'], latlong['data-lng'])"
   ]
  },
  {
   "cell_type": "markdown",
   "metadata": {},
   "source": [
    "### 4.  Write a python program to scrap book name, author name, genre and book review of 5 books from ‘www.bookpage.com’ "
   ]
  },
  {
   "cell_type": "code",
   "execution_count": null,
   "metadata": {},
   "outputs": [],
   "source": []
  },
  {
   "cell_type": "markdown",
   "metadata": {},
   "source": [
    "### 5. Write a python program to scrap cricket rankings from ‘www.icc-cricket.com’. You have to scrap: i) Top 10 ODI teams. ii) Top 10 ODI Batsmen iii) Top 10 ODI bowlers "
   ]
  },
  {
   "cell_type": "code",
   "execution_count": 99,
   "metadata": {},
   "outputs": [
    {
     "name": "stdout",
     "output_type": "stream",
     "text": [
      "1ENGLAND1235405\n",
      "2INDIA1195819\n",
      "3NEW ZEALAND1163716\n",
      "4AUSTRALIA1093941\n",
      "5SOUTH AFRICA1083345\n",
      "6PAKISTAN1023254\n",
      "7BANGLADESH882989\n",
      "8SRI LANKA853297\n",
      "9WEST INDIES763285\n",
      "10AFGHANISTAN551549\n"
     ]
    }
   ],
   "source": [
    "import sys,requests,csv,io\n",
    "from bs4 import BeautifulSoup\n",
    "from urllib.parse import urljoin\n",
    "\n",
    "url = \"https://www.cricbuzz.com/cricket-stats/icc-rankings/men/teams\" \n",
    "r = requests.get(url)\n",
    "r.content\n",
    "soup = BeautifulSoup(r.content, \"html.parser\")\n",
    "\n",
    "maindiv = soup.find_all(\"div\", {\"class\": \"text-center\"})\n",
    "for div in maindiv[13:23]:\n",
    "    print(div.text)"
   ]
  },
  {
   "cell_type": "code",
   "execution_count": 101,
   "metadata": {},
   "outputs": [
    {
     "name": "stdout",
     "output_type": "stream",
     "text": [
      " 1       –    Virat Kohli INDIA   871 \n",
      " 2       –    Rohit Sharma INDIA   855 \n",
      " 3       –    Babar Azam PAKISTAN   829 \n",
      " 4       –    Ross Taylor NEW ZEALAND   818 \n",
      " 5       –    Faf du Plessis SOUTH AFRICA   790 \n",
      " 6       –    Kane Williamson NEW ZEALAND   765 \n",
      " 7       –    Aaron Finch AUSTRALIA   762 \n",
      " 8       –    David Warner AUSTRALIA   759 \n",
      " 9       –    Quinton de Kock SOUTH AFRICA   755 \n",
      " 10       –    Jonny Bairstow ENGLAND   754 \n"
     ]
    }
   ],
   "source": [
    "url = \"https://www.cricbuzz.com/cricket-stats/icc-rankings/men/batting\" \n",
    "r = requests.get(url)\n",
    "r.content\n",
    "soup = BeautifulSoup(r.content, \"html.parser\")\n",
    "\n",
    "maindiv = soup.find_all(\"div\", {\"class\": \"text-center\"})\n",
    "for div in maindiv[102:112]:\n",
    "    print(div.text)"
   ]
  },
  {
   "cell_type": "code",
   "execution_count": 100,
   "metadata": {},
   "outputs": [
    {
     "name": "stdout",
     "output_type": "stream",
     "text": [
      "PositionPlayerRating\n",
      " 1       –    Trent Boult NEW ZEALAND   722 \n",
      " 2       –    Jasprit Bumrah INDIA   719 \n",
      " 3       –    Mujeeb Ur Rahman AFGHANISTAN   701 \n",
      " 4       –    Chris Woakes ENGLAND   675 \n",
      " 5       –    Kagiso Rabada SOUTH AFRICA   665 \n",
      " 6       –    Pat Cummins AUSTRALIA   659 \n",
      " 7       –    Mohammad Amir PAKISTAN   657 \n",
      " 8       –    Josh Hazlewood AUSTRALIA   654 \n",
      " 9       –    Matt Henry NEW ZEALAND   641 \n"
     ]
    }
   ],
   "source": [
    "url = \"https://www.cricbuzz.com/cricket-stats/icc-rankings/men/bowling\" \n",
    "\n",
    "r = requests.get(url)\n",
    "r.content\n",
    "soup = BeautifulSoup(r.content, \"html.parser\")\n",
    "\n",
    "maindiv = soup.find_all(\"div\", {\"class\": \"text-center\"})\n",
    "for div in maindiv[102:112]:\n",
    "    print(div.text)"
   ]
  },
  {
   "cell_type": "code",
   "execution_count": null,
   "metadata": {},
   "outputs": [],
   "source": []
  }
 ],
 "metadata": {
  "kernelspec": {
   "display_name": "Python 3",
   "language": "python",
   "name": "python3"
  },
  "language_info": {
   "codemirror_mode": {
    "name": "ipython",
    "version": 3
   },
   "file_extension": ".py",
   "mimetype": "text/x-python",
   "name": "python",
   "nbconvert_exporter": "python",
   "pygments_lexer": "ipython3",
   "version": "3.8.3"
  }
 },
 "nbformat": 4,
 "nbformat_minor": 4
}
